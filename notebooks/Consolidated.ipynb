{
 "cells": [
  {
   "cell_type": "code",
   "execution_count": 2,
   "id": "27c40f7f-d376-4e87-a1f4-74fd166b4c53",
   "metadata": {},
   "outputs": [],
   "source": [
    "import pandas as pd\n",
    "import xlsxwriter"
   ]
  },
  {
   "cell_type": "code",
   "execution_count": 5,
   "id": "639dac23-6e0f-49b1-88f4-c091b3adeca3",
   "metadata": {},
   "outputs": [],
   "source": [
    "df1 = pd.read_csv('route_summary_frequencies_combined1.csv').reset_index(drop = True)\n",
    "df2 = pd.read_csv('GTFSComparisonToolBeta/all_stops_combined.csv').reset_index(drop = True)\n",
    "df3 = pd.read_csv('final_schedule.csv').reset_index(drop = True)\n",
    "\n",
    "bundle1 = '2025June_Prod_r04_b01_PREDATE_SHUTTLES_SCHEDULED'\n",
    "bundle2 = '2025March_Prod_r01_b05_SHUTTLES_PREDATE_SCHEDULED'\n",
    "# Create a single Excel file with 3 sheets & Formatting\n",
    "with pd.ExcelWriter('SampleOutput4.xlsx', engine='xlsxwriter') as writer:\n",
    "    \n",
    "    df1.to_excel(writer, sheet_name='Route Summary Lists', index=False, startrow = 2)\n",
    "    ws1 = writer.sheets['Route Summary Lists']\n",
    "    header_format = writer.book.add_format({'bold': True, 'font_size': 14, 'align': 'left'})\n",
    "    ws1.write(0, 0, bundle1, header_format)\n",
    "    ws1.write(0,9, bundle2, header_format)\n",
    "    \n",
    "    df2.to_excel(writer, sheet_name='All Stop List', index=False, startrow = 2)\n",
    "    ws2 = writer.sheets['All Stop List']\n",
    "    ws2.write(0,0,bundle1,header_format)\n",
    "    ws2.write(0,5,bundle2,header_format)\n",
    "    \n",
    "    df3.to_excel(writer, sheet_name='Frequency + Running Time', index=False, startrow = 2)\n",
    "    ws3 = writer.sheets['Frequency + Running Time']\n",
    "    ws3.write(0,0,bundle1,header_format)\n",
    "    ws3.write(0,9,bundle2,header_format)"
   ]
  },
  {
   "cell_type": "code",
   "execution_count": null,
   "id": "aa68e77b-a985-47a0-89d4-6266b9b41d1c",
   "metadata": {},
   "outputs": [],
   "source": [
    "\n",
    "\n"
   ]
  }
 ],
 "metadata": {
  "kernelspec": {
   "display_name": "Python 3 (ipykernel)",
   "language": "python",
   "name": "python3"
  },
  "language_info": {
   "codemirror_mode": {
    "name": "ipython",
    "version": 3
   },
   "file_extension": ".py",
   "mimetype": "text/x-python",
   "name": "python",
   "nbconvert_exporter": "python",
   "pygments_lexer": "ipython3",
   "version": "3.13.5"
  }
 },
 "nbformat": 4,
 "nbformat_minor": 5
}
